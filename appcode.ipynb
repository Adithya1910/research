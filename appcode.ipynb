{
 "cells": [
  {
   "cell_type": "code",
   "execution_count": 36,
   "id": "9026911d",
   "metadata": {},
   "outputs": [
    {
     "data": {
      "text/plain": [
       "DeltaGenerator(_root_container=0, _provided_cursor=None, _parent=None, _block_type=None, _form_data=None)"
      ]
     },
     "execution_count": 36,
     "metadata": {},
     "output_type": "execute_result"
    }
   ],
   "source": [
    "import streamlit as st\n",
    "import cv2\n",
    "import numpy as np\n",
    "from tensorflow.keras.models import load_model\n",
    "\n",
    "# Load the pre-trained model\n",
    "model = load_model(\"keras_model.h5\", compile=False)\n",
    "\n",
    "# Define the class names\n",
    "class_names = [\"Fist\", \"Palm\"]\n",
    "\n",
    "# Function to preprocess and predict hand gestures\n",
    "def predict_gesture(image):\n",
    "    image = cv2.resize(image, (224, 224), interpolation=cv2.INTER_AREA)\n",
    "    image = np.asarray(image, dtype=np.float32).reshape(1, 224, 224, 3)\n",
    "    image = (image / 127.5) - 1\n",
    "    prediction = model.predict(image)\n",
    "    index = np.argmax(prediction)\n",
    "    class_name = class_names[index]\n",
    "    confidence_score = prediction[0][index]\n",
    "    return class_name, confidence_score\n",
    "\n",
    "# Streamlit UI\n",
    "st.title(\"Hand Gesture Recognition\")\n",
    "\n",
    "uploaded_files = st.file_uploader(\"Upload images\", type=[\"jpg\", \"jpeg\", \"png\"], accept_multiple_files=True)\n",
    "\n",
    "if st.button(\"Predict\") and uploaded_files:\n",
    "    cols = st.columns(2)\n",
    "    for i, uploaded_file in enumerate(uploaded_files):\n",
    "        # Read and decode the uploaded image\n",
    "        file_bytes = np.asarray(bytearray(uploaded_file.read()), dtype=np.uint8)\n",
    "        image = cv2.imdecode(file_bytes, 1)\n",
    "        image_rgb = cv2.cvtColor(image, cv2.COLOR_BGR2RGB)\n",
    "\n",
    "        # Display the image and perform the prediction\n",
    "        with cols[i % 2]:\n",
    "            st.image(image_rgb, width=200, caption=f'Image {i+1}: {uploaded_file.name}')\n",
    "            class_name, confidence_score = predict_gesture(image)\n",
    "            st.write(f\"Predicted Gesture: {class_name}\")\n",
    "            st.write(f\"Confidence Score: {confidence_score}\")\n",
    "            \n",
    "            # Display the prediction result\n",
    "            if class_name == 'Fist':\n",
    "                st.markdown(\"<h3 style='text-align: center; color: blue;'>It's a Fist</h3>\", unsafe_allow_html=True)\n",
    "            elif class_name == 'Palm':\n",
    "                st.markdown(\"<h3 style='text-align: center; color: green;'>It's a Palm</h3>\", unsafe_allow_html=True)\n",
    "\n",
    "# Display a thank you message\n",
    "st.markdown(\"<h4 style='text-align: center; color: orange;'>Thanks for using our Hand Gesture Recognition App!</h4>\", unsafe_allow_html=True)\n"
   ]
  }
 ],
 "metadata": {
  "kernelspec": {
   "display_name": "Python 3 (ipykernel)",
   "language": "python",
   "name": "python3"
  },
  "language_info": {
   "codemirror_mode": {
    "name": "ipython",
    "version": 3
   },
   "file_extension": ".py",
   "mimetype": "text/x-python",
   "name": "python",
   "nbconvert_exporter": "python",
   "pygments_lexer": "ipython3",
   "version": "3.9.7"
  }
 },
 "nbformat": 4,
 "nbformat_minor": 5
}
